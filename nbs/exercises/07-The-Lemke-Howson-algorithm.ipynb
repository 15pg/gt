{
 "cells": [
  {
   "cell_type": "markdown",
   "metadata": {},
   "source": [
    "# The Lemke-Howson algorithm - exercises\n",
    "\n",
    "1. Define the Lemke-Howson algorithm\n",
    "2. Draw the best response polytopes and use the Lemke-Howson algorithm (with all possible starting labels) for the following games:\n",
    "   1. $\n",
    "   A =\n",
    "   \\begin{pmatrix}\n",
    "   3 & -1\\\\\n",
    "   2 & 7\\end{pmatrix}\n",
    "   \\qquad\n",
    "   B =\n",
    "   \\begin{pmatrix}\n",
    "   -3 & 1\\\\\n",
    "   1 & -6\\end{pmatrix}\n",
    "   $  \n",
    "   2. $\n",
    "   A =\n",
    "   \\begin{pmatrix}\n",
    "   2 & -1\\\\\n",
    "   2 & 3\\end{pmatrix}\n",
    "   \\qquad\n",
    "   B =\n",
    "   \\begin{pmatrix}\n",
    "   -2 & 1\\\\\n",
    "   1 & -2\\end{pmatrix}\n",
    "   $  \n",
    "3. Use the tableaux representation to execute the Lemke-Howson algorithm (with all possible starting labels) on the games of question 2.\n",
    "4. Use the Lemke-Howson algorithm to find a Nash equilibria for the following game:\n",
    "\n",
    "   $$\n",
    "   A =\n",
    "   \\begin{pmatrix}\n",
    "   2 & -1 & 5\\\\\n",
    "   2 & 3 & 3 \\\\\n",
    "   8 & -2 & 4\n",
    "   \\end{pmatrix}\n",
    "   \\qquad\n",
    "   B =\n",
    "   \\begin{pmatrix}\n",
    "   4 & 1 & 3\\\\\n",
    "   3 & 3 & 1 \\\\\n",
    "   1 & -2 & -2\n",
    "   \\end{pmatrix}\n",
    "   $$\n",
    "5. Use the Lemke-Howson algorithm to prove that all (non degenerate) games have an odd number of Nash equilibria."
   ]
  }
 ],
 "metadata": {
  "anaconda-cloud": {},
  "kernelspec": {
   "display_name": "Python [conda env:gt]",
   "language": "python",
   "name": "conda-env-gt-py"
  },
  "language_info": {
   "codemirror_mode": {
    "name": "ipython",
    "version": 3
   },
   "file_extension": ".py",
   "mimetype": "text/x-python",
   "name": "python",
   "nbconvert_exporter": "python",
   "pygments_lexer": "ipython3",
   "version": "3.6.1"
  }
 },
 "nbformat": 4,
 "nbformat_minor": 2
}

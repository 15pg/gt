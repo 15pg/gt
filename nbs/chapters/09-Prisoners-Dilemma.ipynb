{
 "cells": [
  {
   "cell_type": "markdown",
   "metadata": {},
   "source": [
    "# Prisoners Dilemma\n",
    "\n",
    "One big area of repeated games is specifically the Prisoner's Dilemma. We have previously defined this as the following game:\n",
    "\n",
    "$$\n",
    "A =\n",
    "\\begin{pmatrix}\n",
    "    3 & 0\\\\\n",
    "    5 & 1\n",
    "\\end{pmatrix}\\qquad\n",
    "B =\n",
    "\\begin{pmatrix}\n",
    "    3 & 5\\\\\n",
    "    0 & 1\n",
    "\\end{pmatrix}\n",
    "$$\n",
    "\n",
    "The general form is:\n",
    "\n",
    "\n",
    "$$\n",
    "A =\n",
    "\\begin{pmatrix}\n",
    "    R & S\\\\\n",
    "    T & P\n",
    "\\end{pmatrix}\\qquad\n",
    "B =\n",
    "\\begin{pmatrix}\n",
    "    R & T\\\\\n",
    "    S & P\n",
    "\\end{pmatrix}\n",
    "$$\n",
    "\n",
    "with the following constraints:\n",
    "\n",
    "$$T > R > P > S$$\n",
    "$$2R > T + S$$\n",
    "\n",
    "- The first constraint ensures that the second action \"Defect\" dominates the first action \"Cooperate.\n",
    "- The second constraint ensures that a social dilemma arises: the sum of the utilities to both players is best when they both cooperate.\n",
    "\n",
    "This game is a good model of agent (human, etc) interaction: a player can choose to take a slight loss of utility for the benefit of the other play **and** themselves.\n",
    "\n",
    "**Note: The rest of this chapter is a bit different: consider it a \"History of Mathematics\" chapter.**\n",
    "\n",
    "As a single one shot game there is not much more to say about the Prisoner's dilemma. It becomes fascinating when studied as a repeated game.\n",
    "\n",
    "---\n",
    "\n",
    "## Axelrod's tournaments\n",
    "\n",
    "\n",
    "In 1980, Robert Axelrod (a political scientist) invited submissions to a computer tournament version of an iterated prisoners dilemma. This was described in a 1980 paper titled [\"Effective Choice in the Prisoner's Dilemma\"](http://journals.sagepub.com/doi/abs/10.1177/002200278002400101).\n",
    "\n",
    "### First tournament\n",
    "\n",
    "- 15 strategies submitted. \n",
    "- Round robin tournament with 200 stages including a 16th player who played uniformly randomly.\n",
    "- Some very complicated strategies, including for example a strategy that used a $\\chi^2$ test to try and identify strategies that were acting randomly. You can read more about this tournament here: http://axelrod.readthedocs.io/en/stable/reference/overview_of_strategies.html#axelrod-s-first-tournament\n",
    "- The winner (average score) was in fact a very simple strategy: Tit For Tat. This strategy starts by cooperating and then repeats the opponents previous move.\n",
    "\n",
    "The fact that Tit For Tat won garnered a lot of research (still ongoing) as it showed a mathematical model of how cooperative behaviour can emerge in complex situations (why are we nice to each other?).\n",
    "---\n",
    "\n",
    "There is a Python library (`axelrod`) with over 200 strategies that can be used to reproduce this work. You can read the documentation for it here: http://axelrod.readthedocs.io.\n",
    "\n",
    "Note that in version '3.0.0' two of the original strategies are not implemented so here is the best reproduction of Axelrod's tournament:"
   ]
  },
  {
   "cell_type": "code",
   "execution_count": 1,
   "metadata": {},
   "outputs": [
    {
     "name": "stderr",
     "output_type": "stream",
     "text": [
      "Playing matches: 100%|██████████| 91/91 [00:03<00:00, 23.97it/s]\n",
      "Analysing: 100%|██████████| 1820/1820 [00:03<00:00, 522.53it/s]\n",
      "Finishing: 100%|██████████| 39/39 [00:00<00:00, 1403.40it/s]\n"
     ]
    },
    {
     "data": {
      "image/png": "[encoded data removed]",
      "text/plain": [
       "<matplotlib.figure.Figure at 0x7f015b013f98>"
      ]
     },
     "metadata": {},
     "output_type": "display_data"
    }
   ],
   "source": [
    "%matplotlib inline\n",
    "\n",
    "import axelrod as axl\n",
    "assert axl.__version__ == '3.1.0'\n",
    "\n",
    "axl.seed(0)  # Make this reproducible\n",
    "players = [axl.TitForTat(),\n",
    "           axl.Nydegger(),\n",
    "           axl.Grofman(),\n",
    "           axl.Shubik(),\n",
    "           axl.SteinAndRapoport(),\n",
    "           axl.Grudger(),\n",
    "           axl.Davis(),\n",
    "           axl.RevisedDowning(revised=False),\n",
    "           axl.Feld(),\n",
    "           axl.Joss(),\n",
    "           axl.Tullock(),\n",
    "           axl.UnnamedStrategy(),\n",
    "           axl.Random()]\n",
    "tournament = axl.Tournament(players, turns=200, repetitions=20)\n",
    "results = tournament.play()\n",
    "plot = axl.Plot(results)\n",
    "plot.boxplot();"
   ]
  },
  {
   "cell_type": "markdown",
   "metadata": {},
   "source": [
    "We see that Tit For Tat does in fact **not** win this tournament. This highlights that there is no such thing as a best strategy but a best strategy for a particular environment.\n",
    "\n",
    "Here is some of the source code for the strategies:"
   ]
  },
  {
   "cell_type": "code",
   "execution_count": 2,
   "metadata": {
    "collapsed": true
   },
   "outputs": [],
   "source": [
    "axl.TitForTat.strategy??"
   ]
  },
  {
   "cell_type": "markdown",
   "metadata": {},
   "source": [
    "Tit For Tat:\n",
    "\n",
    "```python\n",
    "Signature: axl.TitForTat.strategy(self, opponent:axelrod.player.Player) -> str\n",
    "Source:   \n",
    "    def strategy(self, opponent: Player) -> Action:\n",
    "        \"\"\"This is the actual strategy\"\"\"\n",
    "        # First move\n",
    "        if not self.history:\n",
    "            return C\n",
    "        # React to the opponent's last move\n",
    "        if opponent.history[-1] == D:\n",
    "            return D\n",
    "        return C\n",
    "File:      ~/anaconda3/envs/gt/lib/python3.6/site-packages/axelrod/strategies/titfortat.py\n",
    "Type:      function\n",
    "```"
   ]
  },
  {
   "cell_type": "code",
   "execution_count": 3,
   "metadata": {
    "collapsed": true
   },
   "outputs": [],
   "source": [
    "axl.Grudger.strategy??"
   ]
  },
  {
   "cell_type": "markdown",
   "metadata": {},
   "source": [
    "```python\n",
    "Signature: axl.Grudger.strategy(opponent:axelrod.player.Player) -> str\n",
    "Source:   \n",
    "    @staticmethod\n",
    "    def strategy(opponent: Player) -> Action:\n",
    "        \"\"\"Begins by playing C, then plays D for the remaining rounds if the\n",
    "        opponent ever plays D.\"\"\"\n",
    "        if opponent.defections:\n",
    "            return D\n",
    "        return C\n",
    "File:      ~/anaconda3/envs/gt/lib/python3.6/site-packages/axelrod/strategies/grudger.py\n",
    "Type:      function\n",
    "```"
   ]
  },
  {
   "cell_type": "markdown",
   "metadata": {},
   "source": [
    "## Numerous variants of the this tournament have since been carried out:\n",
    "\n",
    "- Using a Probabilistic end (players don't know how many turns are going to be played). This was carried out in Axelrod's Second tournament, which had 64 strategies and Tit For Tat also won! (Described in a 1980 paper titled: [\"More effective choice in the Prisoner's Dilemma\"](http://journals.sagepub.com/doi/abs/10.1177/002200278002400301)).\n",
    "- Playing the tournament on a Graph. This was carried out by Nowak in 1992 in a paper titled: [\"Evolutionary games and Spatial chaos\"](https://www.researchgate.net/profile/Martin_Nowak2/publication/216634494_Evolutionary_Games_and_Spatial_Chaos/links/54217b730cf274a67fea8e60/Evolutionary-Games-and-Spatial-Chaos.pdf).\n",
    "- Understanding Evolutionary dynamics (we will understand what we mean by this in the later chapters as we start exploring evolutionary game theory).\n",
    "- A specific type of strategy has recently garnered a lot of interest: Zero Determinant Strategies (in a 2012 paper titled: [Iterated Prisoner’s Dilemma contains strategies that dominate any evolutionary opponent](http://www.pnas.org/content/109/26/10409.short)). Claiming that memory does not matter. We will discuss this in further chapters."
   ]
  }
 ],
 "metadata": {
  "anaconda-cloud": {},
  "kernelspec": {
   "display_name": "Python [conda env:gt]",
   "language": "python",
   "name": "conda-env-gt-py"
  },
  "language_info": {
   "codemirror_mode": {
    "name": "ipython",
    "version": 3
   },
   "file_extension": ".py",
   "mimetype": "text/x-python",
   "name": "python",
   "nbconvert_exporter": "python",
   "pygments_lexer": "ipython3",
   "version": "3.6.1"
  }
 },
 "nbformat": 4,
 "nbformat_minor": 2
}
